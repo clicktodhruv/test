{
 "cells": [
  {
   "cell_type": "markdown",
   "id": "2ebf3336-7018-4998-a6f1-41e30ea85b82",
   "metadata": {},
   "source": [
    "# Data Science Tools and Ecosystem"
   ]
  },
  {
   "cell_type": "markdown",
   "id": "d0b1b8f6-a805-4646-a4e0-3c7326dc6ef4",
   "metadata": {},
   "source": [
    "## In this notebook, Data Science Tools and Ecosystem are summarized."
   ]
  },
  {
   "cell_type": "markdown",
   "id": "b466cb63-92b3-465a-af59-56fe431fb834",
   "metadata": {},
   "source": [
    "**Objectives:**\n",
    "* Development Environments - Jupyter Notebook, RStudio, Apache Zeppelin\n",
    "* Data Manipulation - Pandas (Python), dplyr (R)\n",
    "* Data Visualization - Matplotlib, Seaborn, ggplot2\n",
    "* Machine Learning Frameworks - Scikit-learn, TensorFlow, PyTorch\n",
    "* Big Data Tools - Apache Spark, Hadoop\n",
    "* Data Storage - MySQL, MongoDB, PostgreSQL\n",
    "* Version Control - Git, GitHub"
   ]
  },
  {
   "cell_type": "markdown",
   "id": "cb4c3019-689c-4d91-939c-e5cc29d975e1",
   "metadata": {},
   "source": [
    "Some of the popular languages that Data Scientists use are:\n",
    "1. Python\n",
    "2. R\n",
    "3. Julia\n",
    "4. SQL\n",
    "5. Java"
   ]
  },
  {
   "cell_type": "markdown",
   "id": "a7ec986a-9234-42b8-aea7-e2d8f668258d",
   "metadata": {},
   "source": [
    "Some of the commonly used libraries used by Data Scientists include:\n",
    "1. NumPy\n",
    "2. Pandas\n",
    "3. MatplotlibNumPy\n",
    "4. ggplot2"
   ]
  },
  {
   "cell_type": "markdown",
   "id": "6b3fb0ff-d295-4555-bcc3-714d9c19c23e",
   "metadata": {},
   "source": [
    "| **Data Science Tools**        |\n",
    "|-------------------------------|\n",
    "| Jupyter Notebook              |\n",
    "| RStudio                       |\n",
    "| Apache Zeppelin               |"
   ]
  },
  {
   "cell_type": "markdown",
   "id": "7936c62d-1b7d-4e71-9c9f-e107fafda808",
   "metadata": {},
   "source": [
    "### Below are a few examples of evaluating arithmetic expressions in Python.\n"
   ]
  },
  {
   "cell_type": "code",
   "execution_count": 1,
   "id": "b89a1084-4e35-477e-9006-1525c758ffbe",
   "metadata": {},
   "outputs": [
    {
     "data": {
      "text/plain": [
       "17"
      ]
     },
     "execution_count": 1,
     "metadata": {},
     "output_type": "execute_result"
    }
   ],
   "source": [
    "# This a simple arithmetic expression to mutiply then add integers\n",
    "(3*4)+5"
   ]
  },
  {
   "cell_type": "code",
   "execution_count": 2,
   "id": "b6df360e-f9a7-454e-aaf6-8b4a46315e8b",
   "metadata": {},
   "outputs": [
    {
     "data": {
      "text/plain": [
       "3.3333333333333335"
      ]
     },
     "execution_count": 2,
     "metadata": {},
     "output_type": "execute_result"
    }
   ],
   "source": [
    "# This will convert 200 minutes to hours by diving by 60.\n",
    "200/60"
   ]
  },
  {
   "cell_type": "markdown",
   "id": "660a1e4c-8d8d-4c4d-af33-580e2b33c3ad",
   "metadata": {},
   "source": [
    "## Author\n",
    "Dhrub Kumar Sinha"
   ]
  },
  {
   "cell_type": "code",
   "execution_count": null,
   "id": "13677160-dede-47b6-9233-0f312d333d2c",
   "metadata": {},
   "outputs": [],
   "source": []
  }
 ],
 "metadata": {
  "kernelspec": {
   "display_name": "Python 3 (ipykernel)",
   "language": "python",
   "name": "python3"
  },
  "language_info": {
   "codemirror_mode": {
    "name": "ipython",
    "version": 3
   },
   "file_extension": ".py",
   "mimetype": "text/x-python",
   "name": "python",
   "nbconvert_exporter": "python",
   "pygments_lexer": "ipython3",
   "version": "3.12.8"
  }
 },
 "nbformat": 4,
 "nbformat_minor": 5
}
